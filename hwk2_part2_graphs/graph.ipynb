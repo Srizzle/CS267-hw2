{
 "cells": [
  {
   "cell_type": "code",
   "execution_count": 48,
   "metadata": {
    "collapsed": false,
    "deletable": true,
    "editable": true
   },
   "outputs": [],
   "source": [
    "import re\n",
    "import numpy as np\n",
    "import matplotlib.pyplot as plt\n",
    "from scipy import stats\n",
    "# log_serial_particle = []\n",
    "# log_serial_time =[]\n",
    "#processor = [1,2,4,6,12,16,24,32]\n",
    "\n",
    "\n",
    "# f = open(\"mpi_1500_fixed_points.txt\", \"r\")\n",
    "# for line in f:\n",
    "#     spl = [float(x) for x in re.findall(r\"[-+]?\\d*\\.\\d+|\\d+\", line)]\n",
    "#     log_serial_particle.append(np.log(spl[0]) )\n",
    "#     log_serial_time.append(np.log(spl[1]) )\n",
    "    \n",
    "\n",
    "log_parallel_time = []\n",
    "\n",
    "processor = [2,4,6,12,16,24,32]\n",
    "\n",
    "f = open(\"mpi_1500_varying_points.txt\", \"r\")\n",
    "for line in f:\n",
    "\n",
    "    spl = [float(x) for x in re.findall(r\"[-+]?\\d*\\.\\d+|\\d+\", line)]\n",
    "    log_parallel_time.append(np.log(spl[1]) )\n"
   ]
  },
  {
   "cell_type": "code",
   "execution_count": 49,
   "metadata": {
    "collapsed": false,
    "deletable": true,
    "editable": true
   },
   "outputs": [
    {
     "data": {
      "image/png": "[encoded data removed]",
      "text/plain": [
       "<matplotlib.figure.Figure at 0x7fa0c1b89150>"
      ]
     },
     "metadata": {},
     "output_type": "display_data"
    }
   ],
   "source": [
    "fig=plt.figure()\n",
    "#ax=fig.add_subplot(111, label=\"1\")\n",
    "ax2=fig.add_subplot(111, label=\"2\", frame_on=False)\n",
    "\n",
    "# ax.plot(serial_particle_, serial_time_, \"-o\", color=\"green\")\n",
    "# ax.set_xlabel(\"Log of Particle Number \", color=\"black\")\n",
    "# ax.set_ylabel(\"Log of Time\", color=\"blue\")\n",
    "# ax.tick_params(axis='x', colors=\"blue\")\n",
    "# ax.tick_params(axis='y', colors=\"blue\")\n",
    "\n",
    "ax2.plot(processor, log_parallel_time, \"-o\", color = \"purple\")\n",
    "#ax2.yaxis.tick_right()\n",
    "ax2.set_xlabel(\"Number of Processors\", color = \"black\")\n",
    "ax2.set_ylabel('Log of Time', color=\"blue\")        \n",
    "#ax2.yaxis.set_label_position('right') \n",
    "ax2.tick_params(axis='y', colors=\"blue\")\n",
    "\n",
    "\n",
    "plt.title(\"Our Performance (1500 Particles/Processor, Varying Processors)\")\n",
    "plt.show()\n"
   ]
  }
 ],
 "metadata": {
  "kernelspec": {
   "display_name": "Python 2",
   "language": "python",
   "name": "python2"
  },
  "language_info": {
   "codemirror_mode": {
    "name": "ipython",
    "version": 2
   },
   "file_extension": ".py",
   "mimetype": "text/x-python",
   "name": "python",
   "nbconvert_exporter": "python",
   "pygments_lexer": "ipython2",
   "version": "2.7.14"
  }
 },
 "nbformat": 4,
 "nbformat_minor": 2
}
